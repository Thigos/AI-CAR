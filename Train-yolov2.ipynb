{
  "nbformat": 4,
  "nbformat_minor": 0,
  "metadata": {
    "colab": {
      "name": "Train-yolov2.ipynb",
      "provenance": [],
      "collapsed_sections": []
    },
    "kernelspec": {
      "display_name": "Python 3",
      "language": "python",
      "name": "python3"
    },
    "language_info": {
      "codemirror_mode": {
        "name": "ipython",
        "version": 3
      },
      "file_extension": ".py",
      "mimetype": "text/x-python",
      "name": "python",
      "nbconvert_exporter": "python",
      "pygments_lexer": "ipython3",
      "version": "3.6.4"
    }
  },
  "cells": [
    {
      "cell_type": "markdown",
      "metadata": {
        "id": "nlSqAgemyXLb"
      },
      "source": [
        "### Importar os arquivos do Google Drive"
      ]
    },
    {
      "cell_type": "code",
      "metadata": {
        "id": "9aAENSonaQ1p"
      },
      "source": [
        "from google.colab import drive\n",
        "drive.mount('/content/drive')"
      ],
      "execution_count": null,
      "outputs": []
    },
    {
      "cell_type": "code",
      "metadata": {
        "id": "6_eD5IyJaicv"
      },
      "source": [
        "%cd '/content/drive/My Drive/AI-CAR/'"
      ],
      "execution_count": null,
      "outputs": []
    },
    {
      "cell_type": "markdown",
      "metadata": {
        "id": "J7tlNrwUyx9f"
      },
      "source": [
        "### Instalar Dependências"
      ]
    },
    {
      "cell_type": "code",
      "metadata": {
        "id": "Wbdhff9tbQEo"
      },
      "source": [
        "!pip install tensorflow-gpu==1.15"
      ],
      "execution_count": null,
      "outputs": []
    },
    {
      "cell_type": "code",
      "metadata": {
        "id": "D0THGkWByVi6"
      },
      "source": [
        "!python setup.py install"
      ],
      "execution_count": null,
      "outputs": []
    },
    {
      "cell_type": "code",
      "metadata": {
        "id": "XGwzWvKJfQS5"
      },
      "source": [
        "!python setup.py build_ext --inplace"
      ],
      "execution_count": null,
      "outputs": []
    },
    {
      "cell_type": "markdown",
      "metadata": {
        "id": "iWuXpnEgy_La"
      },
      "source": [
        "### Treinar "
      ]
    },
    {
      "cell_type": "code",
      "metadata": {
        "colab": {
          "background_save": true
        },
        "id": "eASSfEmtaz2v"
      },
      "source": [
        "!python flow --model cfg/tiny-yolo-voc-2c.cfg --load -1 --train --annotation bin/annotation --dataset bin/data_image --gpu 1.0 --epoch 1500"
      ],
      "execution_count": null,
      "outputs": []
    }
  ]
}